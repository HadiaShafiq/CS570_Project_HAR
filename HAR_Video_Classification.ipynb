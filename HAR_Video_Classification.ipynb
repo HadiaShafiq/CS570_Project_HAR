{
  "nbformat": 4,
  "nbformat_minor": 0,
  "metadata": {
    "colab": {
      "name": "Untitled7 (1).ipynb",
      "provenance": [],
      "collapsed_sections": []
    },
    "kernelspec": {
      "name": "python3",
      "display_name": "Python 3"
    },
    "language_info": {
      "name": "python"
    }
  },
  "cells": [
    {
      "cell_type": "markdown",
      "source": [
        "**Build Video Classification Model Using Deep Learning**\n",
        "\n",
        "\n"
      ],
      "metadata": {
        "id": "k_iIcFX4lL6u"
      }
    },
    {
      "cell_type": "markdown",
      "source": [
        "Import Necessary Libraries"
      ],
      "metadata": {
        "id": "DxLtQPTFlrkK"
      }
    },
    {
      "cell_type": "code",
      "execution_count": null,
      "metadata": {
        "id": "2LtYPdCy3Wnk"
      },
      "outputs": [],
      "source": [
        "import keras\n",
        "from keras.models import Sequential\n",
        "from keras.applications.vgg16 import VGG16\n",
        "from keras.layers import Dense, InputLayer, Dropout, Flatten\n",
        "from keras.layers import Conv2D, MaxPooling2D, GlobalMaxPooling2D\n",
        "from PIL import Image\n",
        "import math   # for mathematical operations\n",
        "import matplotlib.pyplot as plt    # for plotting the images\n",
        "%matplotlib inline\n",
        "import pandas as pd\n",
        "from keras.preprocessing import image   # for preprocessing the images\n",
        "import numpy as np    # for mathematical operations\n",
        "from keras.utils import np_utils\n",
        "from skimage.transform import resize   # for resizing images\n",
        "from sklearn.model_selection import train_test_split\n",
        "from glob import glob\n",
        "from tqdm import tqdm\n",
        "import tensorflow as tf\n",
        "import cv2\n",
        "import math\n",
        "import os\n",
        "from scipy import stats as s"
      ]
    },
    {
      "cell_type": "markdown",
      "source": [
        "Connect to drive"
      ],
      "metadata": {
        "id": "9gaMX7u1lwIg"
      }
    },
    {
      "cell_type": "code",
      "source": [
        "from google.colab import drive\n",
        "drive.mount('/content/drive')"
      ],
      "metadata": {
        "colab": {
          "base_uri": "https://localhost:8080/"
        },
        "id": "yi5dtWWv3Xlw",
        "outputId": "1e66bef4-c656-4606-e895-00ee2bd0d13a"
      },
      "execution_count": null,
      "outputs": [
        {
          "output_type": "stream",
          "name": "stdout",
          "text": [
            "Drive already mounted at /content/drive; to attempt to forcibly remount, call drive.mount(\"/content/drive\", force_remount=True).\n"
          ]
        }
      ]
    },
    {
      "cell_type": "markdown",
      "source": [
        "storing the name of training videos in dataframe"
      ],
      "metadata": {
        "id": "A6vrwtovl3ZG"
      }
    },
    {
      "cell_type": "code",
      "source": [
        "# open the .txt file which have names of training videos\n",
        "f = open(\"/content/drive/MyDrive/project2/trainlist.txt\", \"r\")\n",
        "temp = f.read()\n",
        "videos = temp.split('\\n')\n",
        "\n",
        "# creating a dataframe having video names\n",
        "train = pd.DataFrame()\n",
        "train['video_name'] = videos\n",
        "\n",
        "train = train[:-1]\n",
        "train.head()"
      ],
      "metadata": {
        "colab": {
          "base_uri": "https://localhost:8080/",
          "height": 206
        },
        "id": "lEiYEQBP3bLj",
        "outputId": "6d218c50-451b-4b97-f022-32e01fd2a6e4"
      },
      "execution_count": null,
      "outputs": [
        {
          "output_type": "execute_result",
          "data": {
            "text/plain": [
              "                                          video_name\n",
              "0  BodyWeightSquats/v_BodyWeightSquats_g08_c01.avi 1\n",
              "1  BodyWeightSquats/v_BodyWeightSquats_g08_c02.avi 1\n",
              "2  BodyWeightSquats/v_BodyWeightSquats_g08_c03.avi 1\n",
              "3  BodyWeightSquats/v_BodyWeightSquats_g08_c04.avi 1\n",
              "4  BodyWeightSquats/v_BodyWeightSquats_g09_c01.avi 1"
            ],
            "text/html": [
              "\n",
              "  <div id=\"df-b4af48ec-8335-4b3d-94e3-b47273257c19\">\n",
              "    <div class=\"colab-df-container\">\n",
              "      <div>\n",
              "<style scoped>\n",
              "    .dataframe tbody tr th:only-of-type {\n",
              "        vertical-align: middle;\n",
              "    }\n",
              "\n",
              "    .dataframe tbody tr th {\n",
              "        vertical-align: top;\n",
              "    }\n",
              "\n",
              "    .dataframe thead th {\n",
              "        text-align: right;\n",
              "    }\n",
              "</style>\n",
              "<table border=\"1\" class=\"dataframe\">\n",
              "  <thead>\n",
              "    <tr style=\"text-align: right;\">\n",
              "      <th></th>\n",
              "      <th>video_name</th>\n",
              "    </tr>\n",
              "  </thead>\n",
              "  <tbody>\n",
              "    <tr>\n",
              "      <th>0</th>\n",
              "      <td>BodyWeightSquats/v_BodyWeightSquats_g08_c01.avi 1</td>\n",
              "    </tr>\n",
              "    <tr>\n",
              "      <th>1</th>\n",
              "      <td>BodyWeightSquats/v_BodyWeightSquats_g08_c02.avi 1</td>\n",
              "    </tr>\n",
              "    <tr>\n",
              "      <th>2</th>\n",
              "      <td>BodyWeightSquats/v_BodyWeightSquats_g08_c03.avi 1</td>\n",
              "    </tr>\n",
              "    <tr>\n",
              "      <th>3</th>\n",
              "      <td>BodyWeightSquats/v_BodyWeightSquats_g08_c04.avi 1</td>\n",
              "    </tr>\n",
              "    <tr>\n",
              "      <th>4</th>\n",
              "      <td>BodyWeightSquats/v_BodyWeightSquats_g09_c01.avi 1</td>\n",
              "    </tr>\n",
              "  </tbody>\n",
              "</table>\n",
              "</div>\n",
              "      <button class=\"colab-df-convert\" onclick=\"convertToInteractive('df-b4af48ec-8335-4b3d-94e3-b47273257c19')\"\n",
              "              title=\"Convert this dataframe to an interactive table.\"\n",
              "              style=\"display:none;\">\n",
              "        \n",
              "  <svg xmlns=\"http://www.w3.org/2000/svg\" height=\"24px\"viewBox=\"0 0 24 24\"\n",
              "       width=\"24px\">\n",
              "    <path d=\"M0 0h24v24H0V0z\" fill=\"none\"/>\n",
              "    <path d=\"M18.56 5.44l.94 2.06.94-2.06 2.06-.94-2.06-.94-.94-2.06-.94 2.06-2.06.94zm-11 1L8.5 8.5l.94-2.06 2.06-.94-2.06-.94L8.5 2.5l-.94 2.06-2.06.94zm10 10l.94 2.06.94-2.06 2.06-.94-2.06-.94-.94-2.06-.94 2.06-2.06.94z\"/><path d=\"M17.41 7.96l-1.37-1.37c-.4-.4-.92-.59-1.43-.59-.52 0-1.04.2-1.43.59L10.3 9.45l-7.72 7.72c-.78.78-.78 2.05 0 2.83L4 21.41c.39.39.9.59 1.41.59.51 0 1.02-.2 1.41-.59l7.78-7.78 2.81-2.81c.8-.78.8-2.07 0-2.86zM5.41 20L4 18.59l7.72-7.72 1.47 1.35L5.41 20z\"/>\n",
              "  </svg>\n",
              "      </button>\n",
              "      \n",
              "  <style>\n",
              "    .colab-df-container {\n",
              "      display:flex;\n",
              "      flex-wrap:wrap;\n",
              "      gap: 12px;\n",
              "    }\n",
              "\n",
              "    .colab-df-convert {\n",
              "      background-color: #E8F0FE;\n",
              "      border: none;\n",
              "      border-radius: 50%;\n",
              "      cursor: pointer;\n",
              "      display: none;\n",
              "      fill: #1967D2;\n",
              "      height: 32px;\n",
              "      padding: 0 0 0 0;\n",
              "      width: 32px;\n",
              "    }\n",
              "\n",
              "    .colab-df-convert:hover {\n",
              "      background-color: #E2EBFA;\n",
              "      box-shadow: 0px 1px 2px rgba(60, 64, 67, 0.3), 0px 1px 3px 1px rgba(60, 64, 67, 0.15);\n",
              "      fill: #174EA6;\n",
              "    }\n",
              "\n",
              "    [theme=dark] .colab-df-convert {\n",
              "      background-color: #3B4455;\n",
              "      fill: #D2E3FC;\n",
              "    }\n",
              "\n",
              "    [theme=dark] .colab-df-convert:hover {\n",
              "      background-color: #434B5C;\n",
              "      box-shadow: 0px 1px 3px 1px rgba(0, 0, 0, 0.15);\n",
              "      filter: drop-shadow(0px 1px 2px rgba(0, 0, 0, 0.3));\n",
              "      fill: #FFFFFF;\n",
              "    }\n",
              "  </style>\n",
              "\n",
              "      <script>\n",
              "        const buttonEl =\n",
              "          document.querySelector('#df-b4af48ec-8335-4b3d-94e3-b47273257c19 button.colab-df-convert');\n",
              "        buttonEl.style.display =\n",
              "          google.colab.kernel.accessAllowed ? 'block' : 'none';\n",
              "\n",
              "        async function convertToInteractive(key) {\n",
              "          const element = document.querySelector('#df-b4af48ec-8335-4b3d-94e3-b47273257c19');\n",
              "          const dataTable =\n",
              "            await google.colab.kernel.invokeFunction('convertToInteractive',\n",
              "                                                     [key], {});\n",
              "          if (!dataTable) return;\n",
              "\n",
              "          const docLinkHtml = 'Like what you see? Visit the ' +\n",
              "            '<a target=\"_blank\" href=https://colab.research.google.com/notebooks/data_table.ipynb>data table notebook</a>'\n",
              "            + ' to learn more about interactive tables.';\n",
              "          element.innerHTML = '';\n",
              "          dataTable['output_type'] = 'display_data';\n",
              "          await google.colab.output.renderOutput(dataTable, element);\n",
              "          const docLink = document.createElement('div');\n",
              "          docLink.innerHTML = docLinkHtml;\n",
              "          element.appendChild(docLink);\n",
              "        }\n",
              "      </script>\n",
              "    </div>\n",
              "  </div>\n",
              "  "
            ]
          },
          "metadata": {},
          "execution_count": 15
        }
      ]
    },
    {
      "cell_type": "markdown",
      "source": [
        "storing the name of testing videos in dataframe"
      ],
      "metadata": {
        "id": "yIMf3GSvmfUX"
      }
    },
    {
      "cell_type": "code",
      "source": [
        "# open the .txt file which have names of test videos\n",
        "f = open(\"/content/drive/MyDrive/project2/testlist.txt\", \"r\")\n",
        "temp = f.read()\n",
        "videos = temp.split('\\n')\n",
        "\n",
        "# creating a dataframe having video names\n",
        "test = pd.DataFrame()\n",
        "test['video_name'] = videos\n",
        "test = test[:-1]\n",
        "test.head()"
      ],
      "metadata": {
        "colab": {
          "base_uri": "https://localhost:8080/",
          "height": 206
        },
        "id": "vcbEAiNi3fwp",
        "outputId": "5157a415-0bd5-4e66-8e30-85e1811f796a"
      },
      "execution_count": null,
      "outputs": [
        {
          "output_type": "execute_result",
          "data": {
            "text/plain": [
              "                                        video_name\n",
              "0  BodyWeightSquats/v_BodyWeightSquats_g01_c01.avi\n",
              "1  BodyWeightSquats/v_BodyWeightSquats_g01_c02.avi\n",
              "2  BodyWeightSquats/v_BodyWeightSquats_g01_c03.avi\n",
              "3  BodyWeightSquats/v_BodyWeightSquats_g01_c04.avi\n",
              "4  BodyWeightSquats/v_BodyWeightSquats_g02_c01.avi"
            ],
            "text/html": [
              "\n",
              "  <div id=\"df-cff65135-dd7a-452c-9dc7-ce7fb3eef0ca\">\n",
              "    <div class=\"colab-df-container\">\n",
              "      <div>\n",
              "<style scoped>\n",
              "    .dataframe tbody tr th:only-of-type {\n",
              "        vertical-align: middle;\n",
              "    }\n",
              "\n",
              "    .dataframe tbody tr th {\n",
              "        vertical-align: top;\n",
              "    }\n",
              "\n",
              "    .dataframe thead th {\n",
              "        text-align: right;\n",
              "    }\n",
              "</style>\n",
              "<table border=\"1\" class=\"dataframe\">\n",
              "  <thead>\n",
              "    <tr style=\"text-align: right;\">\n",
              "      <th></th>\n",
              "      <th>video_name</th>\n",
              "    </tr>\n",
              "  </thead>\n",
              "  <tbody>\n",
              "    <tr>\n",
              "      <th>0</th>\n",
              "      <td>BodyWeightSquats/v_BodyWeightSquats_g01_c01.avi</td>\n",
              "    </tr>\n",
              "    <tr>\n",
              "      <th>1</th>\n",
              "      <td>BodyWeightSquats/v_BodyWeightSquats_g01_c02.avi</td>\n",
              "    </tr>\n",
              "    <tr>\n",
              "      <th>2</th>\n",
              "      <td>BodyWeightSquats/v_BodyWeightSquats_g01_c03.avi</td>\n",
              "    </tr>\n",
              "    <tr>\n",
              "      <th>3</th>\n",
              "      <td>BodyWeightSquats/v_BodyWeightSquats_g01_c04.avi</td>\n",
              "    </tr>\n",
              "    <tr>\n",
              "      <th>4</th>\n",
              "      <td>BodyWeightSquats/v_BodyWeightSquats_g02_c01.avi</td>\n",
              "    </tr>\n",
              "  </tbody>\n",
              "</table>\n",
              "</div>\n",
              "      <button class=\"colab-df-convert\" onclick=\"convertToInteractive('df-cff65135-dd7a-452c-9dc7-ce7fb3eef0ca')\"\n",
              "              title=\"Convert this dataframe to an interactive table.\"\n",
              "              style=\"display:none;\">\n",
              "        \n",
              "  <svg xmlns=\"http://www.w3.org/2000/svg\" height=\"24px\"viewBox=\"0 0 24 24\"\n",
              "       width=\"24px\">\n",
              "    <path d=\"M0 0h24v24H0V0z\" fill=\"none\"/>\n",
              "    <path d=\"M18.56 5.44l.94 2.06.94-2.06 2.06-.94-2.06-.94-.94-2.06-.94 2.06-2.06.94zm-11 1L8.5 8.5l.94-2.06 2.06-.94-2.06-.94L8.5 2.5l-.94 2.06-2.06.94zm10 10l.94 2.06.94-2.06 2.06-.94-2.06-.94-.94-2.06-.94 2.06-2.06.94z\"/><path d=\"M17.41 7.96l-1.37-1.37c-.4-.4-.92-.59-1.43-.59-.52 0-1.04.2-1.43.59L10.3 9.45l-7.72 7.72c-.78.78-.78 2.05 0 2.83L4 21.41c.39.39.9.59 1.41.59.51 0 1.02-.2 1.41-.59l7.78-7.78 2.81-2.81c.8-.78.8-2.07 0-2.86zM5.41 20L4 18.59l7.72-7.72 1.47 1.35L5.41 20z\"/>\n",
              "  </svg>\n",
              "      </button>\n",
              "      \n",
              "  <style>\n",
              "    .colab-df-container {\n",
              "      display:flex;\n",
              "      flex-wrap:wrap;\n",
              "      gap: 12px;\n",
              "    }\n",
              "\n",
              "    .colab-df-convert {\n",
              "      background-color: #E8F0FE;\n",
              "      border: none;\n",
              "      border-radius: 50%;\n",
              "      cursor: pointer;\n",
              "      display: none;\n",
              "      fill: #1967D2;\n",
              "      height: 32px;\n",
              "      padding: 0 0 0 0;\n",
              "      width: 32px;\n",
              "    }\n",
              "\n",
              "    .colab-df-convert:hover {\n",
              "      background-color: #E2EBFA;\n",
              "      box-shadow: 0px 1px 2px rgba(60, 64, 67, 0.3), 0px 1px 3px 1px rgba(60, 64, 67, 0.15);\n",
              "      fill: #174EA6;\n",
              "    }\n",
              "\n",
              "    [theme=dark] .colab-df-convert {\n",
              "      background-color: #3B4455;\n",
              "      fill: #D2E3FC;\n",
              "    }\n",
              "\n",
              "    [theme=dark] .colab-df-convert:hover {\n",
              "      background-color: #434B5C;\n",
              "      box-shadow: 0px 1px 3px 1px rgba(0, 0, 0, 0.15);\n",
              "      filter: drop-shadow(0px 1px 2px rgba(0, 0, 0, 0.3));\n",
              "      fill: #FFFFFF;\n",
              "    }\n",
              "  </style>\n",
              "\n",
              "      <script>\n",
              "        const buttonEl =\n",
              "          document.querySelector('#df-cff65135-dd7a-452c-9dc7-ce7fb3eef0ca button.colab-df-convert');\n",
              "        buttonEl.style.display =\n",
              "          google.colab.kernel.accessAllowed ? 'block' : 'none';\n",
              "\n",
              "        async function convertToInteractive(key) {\n",
              "          const element = document.querySelector('#df-cff65135-dd7a-452c-9dc7-ce7fb3eef0ca');\n",
              "          const dataTable =\n",
              "            await google.colab.kernel.invokeFunction('convertToInteractive',\n",
              "                                                     [key], {});\n",
              "          if (!dataTable) return;\n",
              "\n",
              "          const docLinkHtml = 'Like what you see? Visit the ' +\n",
              "            '<a target=\"_blank\" href=https://colab.research.google.com/notebooks/data_table.ipynb>data table notebook</a>'\n",
              "            + ' to learn more about interactive tables.';\n",
              "          element.innerHTML = '';\n",
              "          dataTable['output_type'] = 'display_data';\n",
              "          await google.colab.output.renderOutput(dataTable, element);\n",
              "          const docLink = document.createElement('div');\n",
              "          docLink.innerHTML = docLinkHtml;\n",
              "          element.appendChild(docLink);\n",
              "        }\n",
              "      </script>\n",
              "    </div>\n",
              "  </div>\n",
              "  "
            ]
          },
          "metadata": {},
          "execution_count": 16
        }
      ]
    },
    {
      "cell_type": "markdown",
      "source": [
        "Creating tags for both training and testing videos"
      ],
      "metadata": {
        "id": "HrCFV_TrmoCh"
      }
    },
    {
      "cell_type": "code",
      "source": [
        "# creating tags for training videos\n",
        "train_video_tag = []\n",
        "for i in range(train.shape[0]):\n",
        "    train_video_tag.append(train['video_name'][i].split('/')[0])\n",
        "    \n",
        "train['tag'] = train_video_tag\n",
        "\n",
        "# creating tags for test videos\n",
        "test_video_tag = []\n",
        "for i in range(test.shape[0]):\n",
        "    test_video_tag.append(test['video_name'][i].split('/')[0])\n",
        "    \n",
        "test['tag'] = test_video_tag"
      ],
      "metadata": {
        "id": "JdeuukuO3i6I"
      },
      "execution_count": null,
      "outputs": []
    },
    {
      "cell_type": "code",
      "source": [
        "# storing the frames from training videos\n",
        "for i in tqdm(range(train.shape[0])):\n",
        "    count = 0\n",
        "    videoFile = train['video_name'][i]\n",
        "    cap = cv2.VideoCapture('/content/drive/MyDrive/project2/Train/'+videoFile.split(' ')[0].split('/')[1])   # capturing the video from the given path\n",
        "    frameRate = cap.get(5) #frame rate\n",
        "    x=1\n",
        "    while(cap.isOpened()):\n",
        "        frameId = cap.get(1) #current frame number\n",
        "        ret, frame = cap.read()\n",
        "        if (ret != True):\n",
        "            break\n",
        "        if (frameId % math.floor(frameRate) == 0):\n",
        "            # storing the frames in a new folder named train_1\n",
        "            filename ='/content/drive/MyDrive/project2/train_1/' + videoFile.split('/')[1].split(' ')[0] +\"_frame%d.jpg\" % count;count+=1\n",
        "            cv2.imwrite(filename, frame)\n",
        "    cap.release()"
      ],
      "metadata": {
        "colab": {
          "base_uri": "https://localhost:8080/"
        },
        "id": "DMzsecTH3m3J",
        "outputId": "9afb3f30-aa48-41cf-c4ab-c8af20f5d118"
      },
      "execution_count": null,
      "outputs": [
        {
          "output_type": "stream",
          "name": "stderr",
          "text": [
            "100%|██████████| 185/185 [01:22<00:00,  2.24it/s]\n"
          ]
        }
      ]
    },
    {
      "cell_type": "code",
      "source": [
        "# getting the names of all the images\n",
        "images = glob(\"/content/drive/MyDrive/project2/train_1/*.jpg\")\n",
        "train_image = []\n",
        "train_class = []\n",
        "\n",
        "for i in tqdm(range(len(images))):\n",
        "    # creating the image name\n",
        "    train_image.append(images[i].split('/')[-1])\n",
        "    # creating the class of image\n",
        "    train_class.append(images[i].split('/')[-1].split('_')[1])\n",
        "    \n",
        "# storing the images and their class in a dataframe\n",
        "train_data = pd.DataFrame()\n",
        "train_data['image'] = train_image\n",
        "train_data['class'] = train_class\n",
        "\n",
        "# converting the dataframe into csv file \n",
        "train_data.to_csv('/content/drive/MyDrive/project2/train_new.csv',header=True, index=False)"
      ],
      "metadata": {
        "colab": {
          "base_uri": "https://localhost:8080/"
        },
        "id": "2o8RQl8C3qaN",
        "outputId": "398d204f-5dac-453d-a559-f35e9cd30daa"
      },
      "execution_count": null,
      "outputs": [
        {
          "output_type": "stream",
          "name": "stderr",
          "text": [
            "100%|██████████| 897/897 [00:00<00:00, 523850.00it/s]\n"
          ]
        }
      ]
    },
    {
      "cell_type": "markdown",
      "source": [
        "Training the video classification model"
      ],
      "metadata": {
        "id": "V1Stv8ISsVwD"
      }
    },
    {
      "cell_type": "code",
      "source": [
        "#read the .csv file contents first 5 row\n",
        "train = pd.read_csv('/content/drive/MyDrive/project2/train_new.csv')\n",
        "train.head()"
      ],
      "metadata": {
        "colab": {
          "base_uri": "https://localhost:8080/",
          "height": 206
        },
        "id": "PUiHgw4p3uhR",
        "outputId": "734429f9-7f38-4ff5-d206-f716f86cf2e4"
      },
      "execution_count": null,
      "outputs": [
        {
          "output_type": "execute_result",
          "data": {
            "text/plain": [
              "                                       image             class\n",
              "0  v_BodyWeightSquats_g08_c01.avi_frame0.jpg  BodyWeightSquats\n",
              "1  v_BodyWeightSquats_g08_c01.avi_frame1.jpg  BodyWeightSquats\n",
              "2  v_BodyWeightSquats_g08_c01.avi_frame2.jpg  BodyWeightSquats\n",
              "3  v_BodyWeightSquats_g08_c01.avi_frame3.jpg  BodyWeightSquats\n",
              "4  v_BodyWeightSquats_g08_c02.avi_frame0.jpg  BodyWeightSquats"
            ],
            "text/html": [
              "\n",
              "  <div id=\"df-47909379-a893-49aa-ae22-c25e195c5232\">\n",
              "    <div class=\"colab-df-container\">\n",
              "      <div>\n",
              "<style scoped>\n",
              "    .dataframe tbody tr th:only-of-type {\n",
              "        vertical-align: middle;\n",
              "    }\n",
              "\n",
              "    .dataframe tbody tr th {\n",
              "        vertical-align: top;\n",
              "    }\n",
              "\n",
              "    .dataframe thead th {\n",
              "        text-align: right;\n",
              "    }\n",
              "</style>\n",
              "<table border=\"1\" class=\"dataframe\">\n",
              "  <thead>\n",
              "    <tr style=\"text-align: right;\">\n",
              "      <th></th>\n",
              "      <th>image</th>\n",
              "      <th>class</th>\n",
              "    </tr>\n",
              "  </thead>\n",
              "  <tbody>\n",
              "    <tr>\n",
              "      <th>0</th>\n",
              "      <td>v_BodyWeightSquats_g08_c01.avi_frame0.jpg</td>\n",
              "      <td>BodyWeightSquats</td>\n",
              "    </tr>\n",
              "    <tr>\n",
              "      <th>1</th>\n",
              "      <td>v_BodyWeightSquats_g08_c01.avi_frame1.jpg</td>\n",
              "      <td>BodyWeightSquats</td>\n",
              "    </tr>\n",
              "    <tr>\n",
              "      <th>2</th>\n",
              "      <td>v_BodyWeightSquats_g08_c01.avi_frame2.jpg</td>\n",
              "      <td>BodyWeightSquats</td>\n",
              "    </tr>\n",
              "    <tr>\n",
              "      <th>3</th>\n",
              "      <td>v_BodyWeightSquats_g08_c01.avi_frame3.jpg</td>\n",
              "      <td>BodyWeightSquats</td>\n",
              "    </tr>\n",
              "    <tr>\n",
              "      <th>4</th>\n",
              "      <td>v_BodyWeightSquats_g08_c02.avi_frame0.jpg</td>\n",
              "      <td>BodyWeightSquats</td>\n",
              "    </tr>\n",
              "  </tbody>\n",
              "</table>\n",
              "</div>\n",
              "      <button class=\"colab-df-convert\" onclick=\"convertToInteractive('df-47909379-a893-49aa-ae22-c25e195c5232')\"\n",
              "              title=\"Convert this dataframe to an interactive table.\"\n",
              "              style=\"display:none;\">\n",
              "        \n",
              "  <svg xmlns=\"http://www.w3.org/2000/svg\" height=\"24px\"viewBox=\"0 0 24 24\"\n",
              "       width=\"24px\">\n",
              "    <path d=\"M0 0h24v24H0V0z\" fill=\"none\"/>\n",
              "    <path d=\"M18.56 5.44l.94 2.06.94-2.06 2.06-.94-2.06-.94-.94-2.06-.94 2.06-2.06.94zm-11 1L8.5 8.5l.94-2.06 2.06-.94-2.06-.94L8.5 2.5l-.94 2.06-2.06.94zm10 10l.94 2.06.94-2.06 2.06-.94-2.06-.94-.94-2.06-.94 2.06-2.06.94z\"/><path d=\"M17.41 7.96l-1.37-1.37c-.4-.4-.92-.59-1.43-.59-.52 0-1.04.2-1.43.59L10.3 9.45l-7.72 7.72c-.78.78-.78 2.05 0 2.83L4 21.41c.39.39.9.59 1.41.59.51 0 1.02-.2 1.41-.59l7.78-7.78 2.81-2.81c.8-.78.8-2.07 0-2.86zM5.41 20L4 18.59l7.72-7.72 1.47 1.35L5.41 20z\"/>\n",
              "  </svg>\n",
              "      </button>\n",
              "      \n",
              "  <style>\n",
              "    .colab-df-container {\n",
              "      display:flex;\n",
              "      flex-wrap:wrap;\n",
              "      gap: 12px;\n",
              "    }\n",
              "\n",
              "    .colab-df-convert {\n",
              "      background-color: #E8F0FE;\n",
              "      border: none;\n",
              "      border-radius: 50%;\n",
              "      cursor: pointer;\n",
              "      display: none;\n",
              "      fill: #1967D2;\n",
              "      height: 32px;\n",
              "      padding: 0 0 0 0;\n",
              "      width: 32px;\n",
              "    }\n",
              "\n",
              "    .colab-df-convert:hover {\n",
              "      background-color: #E2EBFA;\n",
              "      box-shadow: 0px 1px 2px rgba(60, 64, 67, 0.3), 0px 1px 3px 1px rgba(60, 64, 67, 0.15);\n",
              "      fill: #174EA6;\n",
              "    }\n",
              "\n",
              "    [theme=dark] .colab-df-convert {\n",
              "      background-color: #3B4455;\n",
              "      fill: #D2E3FC;\n",
              "    }\n",
              "\n",
              "    [theme=dark] .colab-df-convert:hover {\n",
              "      background-color: #434B5C;\n",
              "      box-shadow: 0px 1px 3px 1px rgba(0, 0, 0, 0.15);\n",
              "      filter: drop-shadow(0px 1px 2px rgba(0, 0, 0, 0.3));\n",
              "      fill: #FFFFFF;\n",
              "    }\n",
              "  </style>\n",
              "\n",
              "      <script>\n",
              "        const buttonEl =\n",
              "          document.querySelector('#df-47909379-a893-49aa-ae22-c25e195c5232 button.colab-df-convert');\n",
              "        buttonEl.style.display =\n",
              "          google.colab.kernel.accessAllowed ? 'block' : 'none';\n",
              "\n",
              "        async function convertToInteractive(key) {\n",
              "          const element = document.querySelector('#df-47909379-a893-49aa-ae22-c25e195c5232');\n",
              "          const dataTable =\n",
              "            await google.colab.kernel.invokeFunction('convertToInteractive',\n",
              "                                                     [key], {});\n",
              "          if (!dataTable) return;\n",
              "\n",
              "          const docLinkHtml = 'Like what you see? Visit the ' +\n",
              "            '<a target=\"_blank\" href=https://colab.research.google.com/notebooks/data_table.ipynb>data table notebook</a>'\n",
              "            + ' to learn more about interactive tables.';\n",
              "          element.innerHTML = '';\n",
              "          dataTable['output_type'] = 'display_data';\n",
              "          await google.colab.output.renderOutput(dataTable, element);\n",
              "          const docLink = document.createElement('div');\n",
              "          docLink.innerHTML = docLinkHtml;\n",
              "          element.appendChild(docLink);\n",
              "        }\n",
              "      </script>\n",
              "    </div>\n",
              "  </div>\n",
              "  "
            ]
          },
          "metadata": {},
          "execution_count": 21
        }
      ]
    },
    {
      "cell_type": "markdown",
      "source": [
        "storing earlier extracted frames as a NumPy array"
      ],
      "metadata": {
        "id": "zbfoIOH8uB82"
      }
    },
    {
      "cell_type": "code",
      "source": [
        "# creating an empty list\n",
        "train_image = []\n",
        "\n",
        "# for loop to read and store frames\n",
        "for i in tqdm(range(train.shape[0])):\n",
        "    # loading the image and keeping the target size as (224,224,3)\n",
        "    img = image.load_img('/content/drive/MyDrive/project2/train_1/'+train['image'][i], target_size=(224,224,3))\n",
        "    # converting it to array\n",
        "    img = image.img_to_array(img)\n",
        "    # normalizing the pixel value\n",
        "    img = img/255\n",
        "    # appending the image to the train_image list\n",
        "    train_image.append(img)\n",
        "    \n",
        "# converting the list to numpy array\n",
        "X = np.array(train_image)\n",
        "\n",
        "# shape of the array\n",
        "X.shape"
      ],
      "metadata": {
        "colab": {
          "base_uri": "https://localhost:8080/"
        },
        "id": "J4TZFFvW3xdB",
        "outputId": "3efb0f84-8415-4023-db70-dadfaea21660"
      },
      "execution_count": null,
      "outputs": [
        {
          "output_type": "stream",
          "name": "stderr",
          "text": [
            "100%|██████████| 897/897 [00:05<00:00, 157.70it/s]\n"
          ]
        },
        {
          "output_type": "execute_result",
          "data": {
            "text/plain": [
              "(897, 224, 224, 3)"
            ]
          },
          "metadata": {},
          "execution_count": 23
        }
      ]
    },
    {
      "cell_type": "markdown",
      "source": [
        "creating validation set"
      ],
      "metadata": {
        "id": "nQVmnnTZwUfu"
      }
    },
    {
      "cell_type": "code",
      "source": [
        "# separating the target\n",
        "y = train['class']\n",
        "\n",
        "# creating the training and validation set\n",
        "X_train, X_test, y_train, y_test = train_test_split(X, y, random_state=42, test_size=0.2, stratify = y)"
      ],
      "metadata": {
        "id": "LS7YmcMz30U3"
      },
      "execution_count": null,
      "outputs": []
    },
    {
      "cell_type": "code",
      "source": [
        "# creating dummies of target variable for train and validation set\n",
        "y_train = pd.get_dummies(y_train)\n",
        "y_test = pd.get_dummies(y_test)"
      ],
      "metadata": {
        "id": "ZGXu3htD33q2"
      },
      "execution_count": null,
      "outputs": []
    },
    {
      "cell_type": "markdown",
      "source": [
        "For this particular dataset, we will be using the VGG-16 pre-trained model. Let’s create a base model of the pre-trained model:"
      ],
      "metadata": {
        "id": "AZRKBKubxgKm"
      }
    },
    {
      "cell_type": "code",
      "source": [
        "# creating the base model of pre-trained VGG16 model\n",
        "base_model = VGG16(weights='imagenet', include_top=False)"
      ],
      "metadata": {
        "colab": {
          "base_uri": "https://localhost:8080/"
        },
        "id": "Xnswpsxk36KU",
        "outputId": "0c475065-92e5-4e87-86c3-a1fe993528e4"
      },
      "execution_count": null,
      "outputs": [
        {
          "output_type": "stream",
          "name": "stdout",
          "text": [
            "Downloading data from https://storage.googleapis.com/tensorflow/keras-applications/vgg16/vgg16_weights_tf_dim_ordering_tf_kernels_notop.h5\n",
            "58892288/58889256 [==============================] - 0s 0us/step\n",
            "58900480/58889256 [==============================] - 0s 0us/step\n"
          ]
        }
      ]
    },
    {
      "cell_type": "markdown",
      "source": [
        "extract features from this pre trained model"
      ],
      "metadata": {
        "id": "xGts07TayRHl"
      }
    },
    {
      "cell_type": "code",
      "source": [
        "# extracting features for training frames\n",
        "X_train = base_model.predict(X_train)\n",
        "X_train.shape"
      ],
      "metadata": {
        "colab": {
          "base_uri": "https://localhost:8080/"
        },
        "id": "vnmdjAEB380U",
        "outputId": "453976e5-e3ed-40a9-d52f-2aa4362d8458"
      },
      "execution_count": null,
      "outputs": [
        {
          "output_type": "execute_result",
          "data": {
            "text/plain": [
              "(717, 7, 7, 512)"
            ]
          },
          "metadata": {},
          "execution_count": 27
        }
      ]
    },
    {
      "cell_type": "code",
      "source": [
        "# extracting features for validation frames\n",
        "X_test = base_model.predict(X_test)\n",
        "X_test.shape"
      ],
      "metadata": {
        "colab": {
          "base_uri": "https://localhost:8080/"
        },
        "id": "-4uxO8yn3-8i",
        "outputId": "0800e1af-782f-47f4-fec4-3194757563ea"
      },
      "execution_count": null,
      "outputs": [
        {
          "output_type": "execute_result",
          "data": {
            "text/plain": [
              "(180, 7, 7, 512)"
            ]
          },
          "metadata": {},
          "execution_count": 28
        }
      ]
    },
    {
      "cell_type": "markdown",
      "source": [
        "We will use a fully connected network now to fine-tune the model. This fully connected network takes input in single dimension. So, we will reshape the images into a single dimension"
      ],
      "metadata": {
        "id": "_vjtS85nyspH"
      }
    },
    {
      "cell_type": "code",
      "source": [
        "# reshaping the training as well as validation frames in single dimension\n",
        "X_train = X_train.reshape(717, 7*7*512)\n",
        "X_test = X_test.reshape(180, 7*7*512)"
      ],
      "metadata": {
        "id": "dr7hJtIX4CU4"
      },
      "execution_count": null,
      "outputs": []
    },
    {
      "cell_type": "markdown",
      "source": [
        "normalize the pixel values, i.e., keep the pixel values between 0 and 1. This helps the model to converge faster."
      ],
      "metadata": {
        "id": "56dKH_HUy2ce"
      }
    },
    {
      "cell_type": "code",
      "source": [
        "# normalizing the pixel values\n",
        "max = X_train.max()\n",
        "X_train = X_train/max\n",
        "X_test = X_test/max"
      ],
      "metadata": {
        "id": "TBS4rSwT_72k"
      },
      "execution_count": null,
      "outputs": []
    },
    {
      "cell_type": "code",
      "source": [
        "# shape of images\n",
        "X_train.shape"
      ],
      "metadata": {
        "colab": {
          "base_uri": "https://localhost:8080/"
        },
        "id": "cVk8EbKb_-tS",
        "outputId": "2365b097-616a-46b5-d12b-b7a0863a4c24"
      },
      "execution_count": null,
      "outputs": [
        {
          "output_type": "execute_result",
          "data": {
            "text/plain": [
              "(717, 25088)"
            ]
          },
          "metadata": {},
          "execution_count": 31
        }
      ]
    },
    {
      "cell_type": "markdown",
      "source": [
        "Creating architecture"
      ],
      "metadata": {
        "id": "bXvJaLGlzDBh"
      }
    },
    {
      "cell_type": "code",
      "source": [
        "#defining the model architecture\n",
        "model = Sequential()\n",
        "model.add(Dense(1024, activation='relu', input_shape=(25088,)))\n",
        "model.add(Dropout(0.5))\n",
        "model.add(Dense(512, activation='relu'))\n",
        "model.add(Dropout(0.5))\n",
        "model.add(Dense(256, activation='relu'))\n",
        "model.add(Dropout(0.5))\n",
        "model.add(Dense(256, activation='relu'))\n",
        "model.add(Dropout(0.5))\n",
        "model.add(Dense(2, activation='softmax'))"
      ],
      "metadata": {
        "id": "-KKWJMOCABvz"
      },
      "execution_count": null,
      "outputs": []
    },
    {
      "cell_type": "markdown",
      "source": [
        "Build function to save the weights of the model"
      ],
      "metadata": {
        "id": "3sjf9AtWz3Kz"
      }
    },
    {
      "cell_type": "code",
      "source": [
        "# defining a function to save the weights of best model\n",
        "from keras.callbacks import ModelCheckpoint\n",
        "mcp_save = ModelCheckpoint('weight.hdf5', save_best_only=True, monitor='val_loss', mode='min')"
      ],
      "metadata": {
        "id": "fhkpa3OoAETh"
      },
      "execution_count": null,
      "outputs": []
    },
    {
      "cell_type": "code",
      "source": [
        "# compiling the model\n",
        "model.compile(loss='categorical_crossentropy',optimizer='Adam',metrics=['accuracy'])\n"
      ],
      "metadata": {
        "id": "0zgxVMW5AHnK"
      },
      "execution_count": null,
      "outputs": []
    },
    {
      "cell_type": "code",
      "source": [
        "# training the model\n",
        "model.fit(X_train, y_train, epochs=200, validation_data=(X_test, y_test), callbacks=[mcp_save], batch_size=128)"
      ],
      "metadata": {
        "colab": {
          "base_uri": "https://localhost:8080/"
        },
        "id": "-7clOcd_AK0g",
        "outputId": "ebcaafea-7ad0-48ef-eea1-9cd5eb77ce77"
      },
      "execution_count": null,
      "outputs": [
        {
          "output_type": "stream",
          "name": "stdout",
          "text": [
            "Epoch 1/200\n",
            "6/6 [==============================] - 4s 562ms/step - loss: 0.7340 - accuracy: 0.5314 - val_loss: 0.5900 - val_accuracy: 0.7667\n",
            "Epoch 2/200\n",
            "6/6 [==============================] - 3s 516ms/step - loss: 0.6408 - accuracy: 0.6499 - val_loss: 0.3445 - val_accuracy: 0.8778\n",
            "Epoch 3/200\n",
            "6/6 [==============================] - 3s 459ms/step - loss: 0.3672 - accuracy: 0.8257 - val_loss: 0.0739 - val_accuracy: 0.9944\n",
            "Epoch 4/200\n",
            "6/6 [==============================] - 3s 439ms/step - loss: 0.1236 - accuracy: 0.9609 - val_loss: 0.0050 - val_accuracy: 1.0000\n",
            "Epoch 5/200\n",
            "6/6 [==============================] - 2s 306ms/step - loss: 0.0327 - accuracy: 0.9888 - val_loss: 0.0148 - val_accuracy: 0.9944\n",
            "Epoch 6/200\n",
            "6/6 [==============================] - 3s 462ms/step - loss: 0.0129 - accuracy: 0.9958 - val_loss: 4.9443e-05 - val_accuracy: 1.0000\n",
            "Epoch 7/200\n",
            "6/6 [==============================] - 2s 304ms/step - loss: 0.0032 - accuracy: 1.0000 - val_loss: 4.5631e-04 - val_accuracy: 1.0000\n",
            "Epoch 8/200\n",
            "6/6 [==============================] - 2s 301ms/step - loss: 0.0024 - accuracy: 1.0000 - val_loss: 2.5578e-04 - val_accuracy: 1.0000\n",
            "Epoch 9/200\n",
            "6/6 [==============================] - 3s 560ms/step - loss: 2.1768e-04 - accuracy: 1.0000 - val_loss: 2.5161e-05 - val_accuracy: 1.0000\n",
            "Epoch 10/200\n",
            "6/6 [==============================] - 2s 301ms/step - loss: 9.6072e-04 - accuracy: 1.0000 - val_loss: 6.1425e-05 - val_accuracy: 1.0000\n",
            "Epoch 11/200\n",
            "6/6 [==============================] - 2s 300ms/step - loss: 0.0046 - accuracy: 0.9972 - val_loss: 0.0082 - val_accuracy: 0.9944\n",
            "Epoch 12/200\n",
            "6/6 [==============================] - 2s 302ms/step - loss: 2.2977e-04 - accuracy: 1.0000 - val_loss: 4.0158e-05 - val_accuracy: 1.0000\n",
            "Epoch 13/200\n",
            "6/6 [==============================] - 3s 465ms/step - loss: 4.5089e-04 - accuracy: 1.0000 - val_loss: 8.3015e-06 - val_accuracy: 1.0000\n",
            "Epoch 14/200\n",
            "6/6 [==============================] - 2s 311ms/step - loss: 0.0017 - accuracy: 1.0000 - val_loss: 3.1393e-04 - val_accuracy: 1.0000\n",
            "Epoch 15/200\n",
            "6/6 [==============================] - 3s 447ms/step - loss: 0.0056 - accuracy: 0.9986 - val_loss: 4.8521e-06 - val_accuracy: 1.0000\n",
            "Epoch 16/200\n",
            "6/6 [==============================] - 3s 472ms/step - loss: 7.4260e-04 - accuracy: 1.0000 - val_loss: 1.1761e-06 - val_accuracy: 1.0000\n",
            "Epoch 17/200\n",
            "6/6 [==============================] - 2s 302ms/step - loss: 7.8010e-04 - accuracy: 1.0000 - val_loss: 2.7003e-06 - val_accuracy: 1.0000\n",
            "Epoch 18/200\n",
            "6/6 [==============================] - 2s 304ms/step - loss: 1.5230e-04 - accuracy: 1.0000 - val_loss: 8.8003e-06 - val_accuracy: 1.0000\n",
            "Epoch 19/200\n",
            "6/6 [==============================] - 2s 306ms/step - loss: 3.2678e-04 - accuracy: 1.0000 - val_loss: 3.5599e-05 - val_accuracy: 1.0000\n",
            "Epoch 20/200\n",
            "6/6 [==============================] - 2s 301ms/step - loss: 9.4357e-04 - accuracy: 1.0000 - val_loss: 2.0520e-05 - val_accuracy: 1.0000\n",
            "Epoch 21/200\n",
            "6/6 [==============================] - 2s 304ms/step - loss: 4.1430e-05 - accuracy: 1.0000 - val_loss: 3.1081e-06 - val_accuracy: 1.0000\n",
            "Epoch 22/200\n",
            "6/6 [==============================] - 2s 304ms/step - loss: 6.4885e-05 - accuracy: 1.0000 - val_loss: 1.2019e-06 - val_accuracy: 1.0000\n",
            "Epoch 23/200\n",
            "6/6 [==============================] - 3s 467ms/step - loss: 8.2219e-05 - accuracy: 1.0000 - val_loss: 7.8939e-07 - val_accuracy: 1.0000\n",
            "Epoch 24/200\n",
            "6/6 [==============================] - 2s 308ms/step - loss: 9.3022e-05 - accuracy: 1.0000 - val_loss: 9.1852e-07 - val_accuracy: 1.0000\n",
            "Epoch 25/200\n",
            "6/6 [==============================] - 2s 305ms/step - loss: 2.9634e-04 - accuracy: 1.0000 - val_loss: 1.7151e-06 - val_accuracy: 1.0000\n",
            "Epoch 26/200\n",
            "6/6 [==============================] - 2s 302ms/step - loss: 6.2991e-05 - accuracy: 1.0000 - val_loss: 2.8346e-06 - val_accuracy: 1.0000\n",
            "Epoch 27/200\n",
            "6/6 [==============================] - 2s 304ms/step - loss: 5.1320e-05 - accuracy: 1.0000 - val_loss: 3.7541e-06 - val_accuracy: 1.0000\n",
            "Epoch 28/200\n",
            "6/6 [==============================] - 2s 300ms/step - loss: 6.2470e-05 - accuracy: 1.0000 - val_loss: 4.2340e-06 - val_accuracy: 1.0000\n",
            "Epoch 29/200\n",
            "6/6 [==============================] - 2s 302ms/step - loss: 2.7631e-05 - accuracy: 1.0000 - val_loss: 4.4193e-06 - val_accuracy: 1.0000\n",
            "Epoch 30/200\n",
            "6/6 [==============================] - 2s 305ms/step - loss: 2.4295e-05 - accuracy: 1.0000 - val_loss: 4.3200e-06 - val_accuracy: 1.0000\n",
            "Epoch 31/200\n",
            "6/6 [==============================] - 2s 307ms/step - loss: 2.1897e-05 - accuracy: 1.0000 - val_loss: 3.8646e-06 - val_accuracy: 1.0000\n",
            "Epoch 32/200\n",
            "6/6 [==============================] - 2s 301ms/step - loss: 2.9401e-05 - accuracy: 1.0000 - val_loss: 3.3655e-06 - val_accuracy: 1.0000\n",
            "Epoch 33/200\n",
            "6/6 [==============================] - 2s 301ms/step - loss: 1.7424e-04 - accuracy: 1.0000 - val_loss: 2.9108e-06 - val_accuracy: 1.0000\n",
            "Epoch 34/200\n",
            "6/6 [==============================] - 2s 305ms/step - loss: 1.4602e-04 - accuracy: 1.0000 - val_loss: 2.1600e-06 - val_accuracy: 1.0000\n",
            "Epoch 35/200\n",
            "6/6 [==============================] - 2s 305ms/step - loss: 1.7979e-04 - accuracy: 1.0000 - val_loss: 1.4800e-06 - val_accuracy: 1.0000\n",
            "Epoch 36/200\n",
            "6/6 [==============================] - 2s 300ms/step - loss: 6.9829e-05 - accuracy: 1.0000 - val_loss: 1.0510e-06 - val_accuracy: 1.0000\n",
            "Epoch 37/200\n",
            "6/6 [==============================] - 2s 307ms/step - loss: 2.8635e-06 - accuracy: 1.0000 - val_loss: 9.1322e-07 - val_accuracy: 1.0000\n",
            "Epoch 38/200\n",
            "6/6 [==============================] - 2s 305ms/step - loss: 2.0594e-05 - accuracy: 1.0000 - val_loss: 8.2117e-07 - val_accuracy: 1.0000\n",
            "Epoch 39/200\n",
            "6/6 [==============================] - 3s 496ms/step - loss: 1.0055e-05 - accuracy: 1.0000 - val_loss: 7.6753e-07 - val_accuracy: 1.0000\n",
            "Epoch 40/200\n",
            "6/6 [==============================] - 3s 462ms/step - loss: 5.1541e-05 - accuracy: 1.0000 - val_loss: 6.4238e-07 - val_accuracy: 1.0000\n",
            "Epoch 41/200\n",
            "6/6 [==============================] - 3s 441ms/step - loss: 3.8207e-05 - accuracy: 1.0000 - val_loss: 5.0397e-07 - val_accuracy: 1.0000\n",
            "Epoch 42/200\n",
            "6/6 [==============================] - 2s 424ms/step - loss: 4.2349e-05 - accuracy: 1.0000 - val_loss: 4.6291e-07 - val_accuracy: 1.0000\n",
            "Epoch 43/200\n",
            "6/6 [==============================] - 3s 495ms/step - loss: 8.5386e-06 - accuracy: 1.0000 - val_loss: 4.6027e-07 - val_accuracy: 1.0000\n",
            "Epoch 44/200\n",
            "6/6 [==============================] - 2s 306ms/step - loss: 3.5184e-05 - accuracy: 1.0000 - val_loss: 4.6887e-07 - val_accuracy: 1.0000\n",
            "Epoch 45/200\n",
            "6/6 [==============================] - 2s 300ms/step - loss: 2.4529e-05 - accuracy: 1.0000 - val_loss: 4.6556e-07 - val_accuracy: 1.0000\n",
            "Epoch 46/200\n",
            "6/6 [==============================] - 2s 302ms/step - loss: 9.0019e-06 - accuracy: 1.0000 - val_loss: 4.6093e-07 - val_accuracy: 1.0000\n",
            "Epoch 47/200\n",
            "6/6 [==============================] - 3s 468ms/step - loss: 1.8558e-05 - accuracy: 1.0000 - val_loss: 4.5695e-07 - val_accuracy: 1.0000\n",
            "Epoch 48/200\n",
            "6/6 [==============================] - 2s 307ms/step - loss: 2.4104e-05 - accuracy: 1.0000 - val_loss: 5.0927e-07 - val_accuracy: 1.0000\n",
            "Epoch 49/200\n",
            "6/6 [==============================] - 2s 301ms/step - loss: 3.4866e-05 - accuracy: 1.0000 - val_loss: 6.1324e-07 - val_accuracy: 1.0000\n",
            "Epoch 50/200\n",
            "6/6 [==============================] - 2s 302ms/step - loss: 8.2037e-06 - accuracy: 1.0000 - val_loss: 6.6224e-07 - val_accuracy: 1.0000\n",
            "Epoch 51/200\n",
            "6/6 [==============================] - 2s 302ms/step - loss: 4.9235e-06 - accuracy: 1.0000 - val_loss: 6.8211e-07 - val_accuracy: 1.0000\n",
            "Epoch 52/200\n",
            "6/6 [==============================] - 2s 308ms/step - loss: 1.3917e-05 - accuracy: 1.0000 - val_loss: 6.8873e-07 - val_accuracy: 1.0000\n",
            "Epoch 53/200\n",
            "6/6 [==============================] - 2s 301ms/step - loss: 9.8773e-06 - accuracy: 1.0000 - val_loss: 6.9933e-07 - val_accuracy: 1.0000\n",
            "Epoch 54/200\n",
            "6/6 [==============================] - 2s 302ms/step - loss: 1.1329e-05 - accuracy: 1.0000 - val_loss: 6.9800e-07 - val_accuracy: 1.0000\n",
            "Epoch 55/200\n",
            "6/6 [==============================] - 2s 302ms/step - loss: 1.7470e-05 - accuracy: 1.0000 - val_loss: 6.7416e-07 - val_accuracy: 1.0000\n",
            "Epoch 56/200\n",
            "6/6 [==============================] - 2s 303ms/step - loss: 4.2439e-06 - accuracy: 1.0000 - val_loss: 6.8012e-07 - val_accuracy: 1.0000\n",
            "Epoch 57/200\n",
            "6/6 [==============================] - 2s 301ms/step - loss: 1.4187e-05 - accuracy: 1.0000 - val_loss: 6.7615e-07 - val_accuracy: 1.0000\n",
            "Epoch 58/200\n",
            "6/6 [==============================] - 2s 305ms/step - loss: 1.1602e-05 - accuracy: 1.0000 - val_loss: 6.9005e-07 - val_accuracy: 1.0000\n",
            "Epoch 59/200\n",
            "6/6 [==============================] - 2s 308ms/step - loss: 1.0296e-05 - accuracy: 1.0000 - val_loss: 6.8807e-07 - val_accuracy: 1.0000\n",
            "Epoch 60/200\n",
            "6/6 [==============================] - 2s 304ms/step - loss: 9.2547e-06 - accuracy: 1.0000 - val_loss: 6.6025e-07 - val_accuracy: 1.0000\n",
            "Epoch 61/200\n",
            "6/6 [==============================] - 3s 467ms/step - loss: 4.1225e-04 - accuracy: 1.0000 - val_loss: 3.7087e-08 - val_accuracy: 1.0000\n",
            "Epoch 62/200\n",
            "6/6 [==============================] - 3s 449ms/step - loss: 2.0026e-04 - accuracy: 1.0000 - val_loss: 2.8478e-08 - val_accuracy: 1.0000\n",
            "Epoch 63/200\n",
            "6/6 [==============================] - 2s 309ms/step - loss: 4.8208e-05 - accuracy: 1.0000 - val_loss: 3.7087e-08 - val_accuracy: 1.0000\n",
            "Epoch 64/200\n",
            "6/6 [==============================] - 2s 303ms/step - loss: 9.0885e-05 - accuracy: 1.0000 - val_loss: 1.4901e-07 - val_accuracy: 1.0000\n",
            "Epoch 65/200\n",
            "6/6 [==============================] - 2s 306ms/step - loss: 2.5637e-06 - accuracy: 1.0000 - val_loss: 4.9669e-07 - val_accuracy: 1.0000\n",
            "Epoch 66/200\n",
            "6/6 [==============================] - 2s 307ms/step - loss: 1.5936e-05 - accuracy: 1.0000 - val_loss: 9.4169e-07 - val_accuracy: 1.0000\n",
            "Epoch 67/200\n",
            "6/6 [==============================] - 2s 302ms/step - loss: 1.1548e-05 - accuracy: 1.0000 - val_loss: 1.2615e-06 - val_accuracy: 1.0000\n",
            "Epoch 68/200\n",
            "6/6 [==============================] - 2s 304ms/step - loss: 8.0367e-06 - accuracy: 1.0000 - val_loss: 1.4304e-06 - val_accuracy: 1.0000\n",
            "Epoch 69/200\n",
            "6/6 [==============================] - 2s 309ms/step - loss: 1.4702e-05 - accuracy: 1.0000 - val_loss: 1.5264e-06 - val_accuracy: 1.0000\n",
            "Epoch 70/200\n",
            "6/6 [==============================] - 2s 305ms/step - loss: 2.6087e-05 - accuracy: 1.0000 - val_loss: 1.5502e-06 - val_accuracy: 1.0000\n",
            "Epoch 71/200\n",
            "6/6 [==============================] - 2s 303ms/step - loss: 1.0746e-05 - accuracy: 1.0000 - val_loss: 1.5092e-06 - val_accuracy: 1.0000\n",
            "Epoch 72/200\n",
            "6/6 [==============================] - 2s 300ms/step - loss: 3.4605e-05 - accuracy: 1.0000 - val_loss: 1.2105e-06 - val_accuracy: 1.0000\n",
            "Epoch 73/200\n",
            "6/6 [==============================] - 2s 302ms/step - loss: 2.1274e-05 - accuracy: 1.0000 - val_loss: 8.7614e-07 - val_accuracy: 1.0000\n",
            "Epoch 74/200\n",
            "6/6 [==============================] - 2s 305ms/step - loss: 3.2438e-05 - accuracy: 1.0000 - val_loss: 5.8940e-07 - val_accuracy: 1.0000\n",
            "Epoch 75/200\n",
            "6/6 [==============================] - 2s 311ms/step - loss: 1.9547e-05 - accuracy: 1.0000 - val_loss: 4.5563e-07 - val_accuracy: 1.0000\n",
            "Epoch 76/200\n",
            "6/6 [==============================] - 2s 304ms/step - loss: 1.4797e-05 - accuracy: 1.0000 - val_loss: 3.8014e-07 - val_accuracy: 1.0000\n",
            "Epoch 77/200\n",
            "6/6 [==============================] - 2s 300ms/step - loss: 5.7429e-06 - accuracy: 1.0000 - val_loss: 3.3312e-07 - val_accuracy: 1.0000\n",
            "Epoch 78/200\n",
            "6/6 [==============================] - 2s 303ms/step - loss: 5.5060e-06 - accuracy: 1.0000 - val_loss: 3.0133e-07 - val_accuracy: 1.0000\n",
            "Epoch 79/200\n",
            "6/6 [==============================] - 2s 299ms/step - loss: 6.0571e-05 - accuracy: 1.0000 - val_loss: 2.3974e-07 - val_accuracy: 1.0000\n",
            "Epoch 80/200\n",
            "6/6 [==============================] - 2s 300ms/step - loss: 2.4189e-05 - accuracy: 1.0000 - val_loss: 2.1060e-07 - val_accuracy: 1.0000\n",
            "Epoch 81/200\n",
            "6/6 [==============================] - 2s 303ms/step - loss: 3.7350e-06 - accuracy: 1.0000 - val_loss: 1.8279e-07 - val_accuracy: 1.0000\n",
            "Epoch 82/200\n",
            "6/6 [==============================] - 2s 302ms/step - loss: 2.1474e-05 - accuracy: 1.0000 - val_loss: 1.7550e-07 - val_accuracy: 1.0000\n",
            "Epoch 83/200\n",
            "6/6 [==============================] - 2s 307ms/step - loss: 1.1723e-05 - accuracy: 1.0000 - val_loss: 1.8477e-07 - val_accuracy: 1.0000\n",
            "Epoch 84/200\n",
            "6/6 [==============================] - 2s 303ms/step - loss: 6.9476e-05 - accuracy: 1.0000 - val_loss: 1.8014e-07 - val_accuracy: 1.0000\n",
            "Epoch 85/200\n",
            "6/6 [==============================] - 2s 301ms/step - loss: 1.5916e-05 - accuracy: 1.0000 - val_loss: 1.8676e-07 - val_accuracy: 1.0000\n",
            "Epoch 86/200\n",
            "6/6 [==============================] - 2s 303ms/step - loss: 4.4361e-06 - accuracy: 1.0000 - val_loss: 1.9338e-07 - val_accuracy: 1.0000\n",
            "Epoch 87/200\n",
            "6/6 [==============================] - 2s 303ms/step - loss: 2.4767e-06 - accuracy: 1.0000 - val_loss: 1.9669e-07 - val_accuracy: 1.0000\n",
            "Epoch 88/200\n",
            "6/6 [==============================] - 2s 303ms/step - loss: 6.5215e-06 - accuracy: 1.0000 - val_loss: 1.9139e-07 - val_accuracy: 1.0000\n",
            "Epoch 89/200\n",
            "6/6 [==============================] - 2s 304ms/step - loss: 2.5391e-05 - accuracy: 1.0000 - val_loss: 1.7285e-07 - val_accuracy: 1.0000\n",
            "Epoch 90/200\n",
            "6/6 [==============================] - 2s 301ms/step - loss: 3.9901e-06 - accuracy: 1.0000 - val_loss: 1.4636e-07 - val_accuracy: 1.0000\n",
            "Epoch 91/200\n",
            "6/6 [==============================] - 2s 300ms/step - loss: 4.9961e-06 - accuracy: 1.0000 - val_loss: 1.3444e-07 - val_accuracy: 1.0000\n",
            "Epoch 92/200\n",
            "6/6 [==============================] - 2s 302ms/step - loss: 7.8145e-05 - accuracy: 1.0000 - val_loss: 2.5365e-07 - val_accuracy: 1.0000\n",
            "Epoch 93/200\n",
            "6/6 [==============================] - 2s 306ms/step - loss: 4.0235e-06 - accuracy: 1.0000 - val_loss: 3.7417e-07 - val_accuracy: 1.0000\n",
            "Epoch 94/200\n",
            "6/6 [==============================] - 2s 304ms/step - loss: 2.5511e-05 - accuracy: 1.0000 - val_loss: 4.8477e-07 - val_accuracy: 1.0000\n",
            "Epoch 95/200\n",
            "6/6 [==============================] - 2s 303ms/step - loss: 4.2845e-06 - accuracy: 1.0000 - val_loss: 5.5364e-07 - val_accuracy: 1.0000\n",
            "Epoch 96/200\n",
            "6/6 [==============================] - 2s 304ms/step - loss: 2.3436e-05 - accuracy: 1.0000 - val_loss: 5.2053e-07 - val_accuracy: 1.0000\n",
            "Epoch 97/200\n",
            "6/6 [==============================] - 2s 303ms/step - loss: 3.9038e-06 - accuracy: 1.0000 - val_loss: 4.1788e-07 - val_accuracy: 1.0000\n",
            "Epoch 98/200\n",
            "6/6 [==============================] - 2s 306ms/step - loss: 9.7307e-06 - accuracy: 1.0000 - val_loss: 3.7351e-07 - val_accuracy: 1.0000\n",
            "Epoch 99/200\n",
            "6/6 [==============================] - 2s 304ms/step - loss: 2.7144e-05 - accuracy: 1.0000 - val_loss: 3.1590e-07 - val_accuracy: 1.0000\n",
            "Epoch 100/200\n",
            "6/6 [==============================] - 2s 306ms/step - loss: 3.4869e-06 - accuracy: 1.0000 - val_loss: 2.7351e-07 - val_accuracy: 1.0000\n",
            "Epoch 101/200\n",
            "6/6 [==============================] - 2s 303ms/step - loss: 1.2112e-06 - accuracy: 1.0000 - val_loss: 2.5033e-07 - val_accuracy: 1.0000\n",
            "Epoch 102/200\n",
            "6/6 [==============================] - 2s 310ms/step - loss: 9.1220e-06 - accuracy: 1.0000 - val_loss: 2.2384e-07 - val_accuracy: 1.0000\n",
            "Epoch 103/200\n",
            "6/6 [==============================] - 2s 304ms/step - loss: 3.9985e-06 - accuracy: 1.0000 - val_loss: 1.9802e-07 - val_accuracy: 1.0000\n",
            "Epoch 104/200\n",
            "6/6 [==============================] - 2s 302ms/step - loss: 3.1640e-06 - accuracy: 1.0000 - val_loss: 1.8477e-07 - val_accuracy: 1.0000\n",
            "Epoch 105/200\n",
            "6/6 [==============================] - 2s 307ms/step - loss: 4.1323e-06 - accuracy: 1.0000 - val_loss: 1.7682e-07 - val_accuracy: 1.0000\n",
            "Epoch 106/200\n",
            "6/6 [==============================] - 2s 304ms/step - loss: 2.4285e-06 - accuracy: 1.0000 - val_loss: 1.7020e-07 - val_accuracy: 1.0000\n",
            "Epoch 107/200\n",
            "6/6 [==============================] - 2s 304ms/step - loss: 2.3731e-06 - accuracy: 1.0000 - val_loss: 1.6689e-07 - val_accuracy: 1.0000\n",
            "Epoch 108/200\n",
            "6/6 [==============================] - 2s 302ms/step - loss: 1.2944e-06 - accuracy: 1.0000 - val_loss: 1.6689e-07 - val_accuracy: 1.0000\n",
            "Epoch 109/200\n",
            "6/6 [==============================] - 2s 305ms/step - loss: 6.1036e-06 - accuracy: 1.0000 - val_loss: 1.6822e-07 - val_accuracy: 1.0000\n",
            "Epoch 110/200\n",
            "6/6 [==============================] - 2s 305ms/step - loss: 4.3944e-06 - accuracy: 1.0000 - val_loss: 1.7153e-07 - val_accuracy: 1.0000\n",
            "Epoch 111/200\n",
            "6/6 [==============================] - 2s 302ms/step - loss: 1.3732e-05 - accuracy: 1.0000 - val_loss: 1.8146e-07 - val_accuracy: 1.0000\n",
            "Epoch 112/200\n",
            "6/6 [==============================] - 2s 301ms/step - loss: 9.0411e-07 - accuracy: 1.0000 - val_loss: 1.8543e-07 - val_accuracy: 1.0000\n",
            "Epoch 113/200\n",
            "6/6 [==============================] - 2s 300ms/step - loss: 1.5561e-06 - accuracy: 1.0000 - val_loss: 1.8676e-07 - val_accuracy: 1.0000\n",
            "Epoch 114/200\n",
            "6/6 [==============================] - 2s 305ms/step - loss: 3.0277e-06 - accuracy: 1.0000 - val_loss: 1.8676e-07 - val_accuracy: 1.0000\n",
            "Epoch 115/200\n",
            "6/6 [==============================] - 2s 303ms/step - loss: 2.7362e-06 - accuracy: 1.0000 - val_loss: 1.8411e-07 - val_accuracy: 1.0000\n",
            "Epoch 116/200\n",
            "6/6 [==============================] - 2s 306ms/step - loss: 2.1850e-06 - accuracy: 1.0000 - val_loss: 1.8279e-07 - val_accuracy: 1.0000\n",
            "Epoch 117/200\n",
            "6/6 [==============================] - 2s 302ms/step - loss: 9.6893e-06 - accuracy: 1.0000 - val_loss: 1.7947e-07 - val_accuracy: 1.0000\n",
            "Epoch 118/200\n",
            "6/6 [==============================] - 2s 303ms/step - loss: 1.5166e-06 - accuracy: 1.0000 - val_loss: 1.7153e-07 - val_accuracy: 1.0000\n",
            "Epoch 119/200\n",
            "6/6 [==============================] - 2s 305ms/step - loss: 1.7955e-05 - accuracy: 1.0000 - val_loss: 1.6954e-07 - val_accuracy: 1.0000\n",
            "Epoch 120/200\n",
            "6/6 [==============================] - 2s 305ms/step - loss: 2.2854e-05 - accuracy: 1.0000 - val_loss: 1.5828e-07 - val_accuracy: 1.0000\n",
            "Epoch 121/200\n",
            "6/6 [==============================] - 2s 304ms/step - loss: 3.9136e-06 - accuracy: 1.0000 - val_loss: 1.0927e-07 - val_accuracy: 1.0000\n",
            "Epoch 122/200\n",
            "6/6 [==============================] - 2s 303ms/step - loss: 1.3103e-05 - accuracy: 1.0000 - val_loss: 8.6757e-08 - val_accuracy: 1.0000\n",
            "Epoch 123/200\n",
            "6/6 [==============================] - 2s 307ms/step - loss: 1.5107e-05 - accuracy: 1.0000 - val_loss: 8.0135e-08 - val_accuracy: 1.0000\n",
            "Epoch 124/200\n",
            "6/6 [==============================] - 2s 308ms/step - loss: 1.5733e-05 - accuracy: 1.0000 - val_loss: 9.0069e-08 - val_accuracy: 1.0000\n",
            "Epoch 125/200\n",
            "6/6 [==============================] - 2s 302ms/step - loss: 2.5090e-06 - accuracy: 1.0000 - val_loss: 9.8016e-08 - val_accuracy: 1.0000\n",
            "Epoch 126/200\n",
            "6/6 [==============================] - 2s 304ms/step - loss: 1.8741e-05 - accuracy: 1.0000 - val_loss: 7.4174e-08 - val_accuracy: 1.0000\n",
            "Epoch 127/200\n",
            "6/6 [==============================] - 2s 305ms/step - loss: 1.9387e-06 - accuracy: 1.0000 - val_loss: 4.0399e-08 - val_accuracy: 1.0000\n",
            "Epoch 128/200\n",
            "6/6 [==============================] - 2s 304ms/step - loss: 4.6048e-06 - accuracy: 1.0000 - val_loss: 2.9802e-08 - val_accuracy: 1.0000\n",
            "Epoch 129/200\n",
            "6/6 [==============================] - 3s 464ms/step - loss: 9.9653e-07 - accuracy: 1.0000 - val_loss: 2.5166e-08 - val_accuracy: 1.0000\n",
            "Epoch 130/200\n",
            "6/6 [==============================] - 3s 448ms/step - loss: 2.0246e-06 - accuracy: 1.0000 - val_loss: 2.3842e-08 - val_accuracy: 1.0000\n",
            "Epoch 131/200\n",
            "6/6 [==============================] - 3s 478ms/step - loss: 4.0713e-06 - accuracy: 1.0000 - val_loss: 2.3180e-08 - val_accuracy: 1.0000\n",
            "Epoch 132/200\n",
            "6/6 [==============================] - 2s 306ms/step - loss: 6.7969e-06 - accuracy: 1.0000 - val_loss: 2.3842e-08 - val_accuracy: 1.0000\n",
            "Epoch 133/200\n",
            "6/6 [==============================] - 2s 303ms/step - loss: 1.1738e-06 - accuracy: 1.0000 - val_loss: 2.4504e-08 - val_accuracy: 1.0000\n",
            "Epoch 134/200\n",
            "6/6 [==============================] - 2s 309ms/step - loss: 1.6866e-06 - accuracy: 1.0000 - val_loss: 2.5166e-08 - val_accuracy: 1.0000\n",
            "Epoch 135/200\n",
            "6/6 [==============================] - 2s 301ms/step - loss: 1.1525e-06 - accuracy: 1.0000 - val_loss: 2.5829e-08 - val_accuracy: 1.0000\n",
            "Epoch 136/200\n",
            "6/6 [==============================] - 2s 302ms/step - loss: 3.7236e-06 - accuracy: 1.0000 - val_loss: 2.5829e-08 - val_accuracy: 1.0000\n",
            "Epoch 137/200\n",
            "6/6 [==============================] - 2s 304ms/step - loss: 6.4224e-06 - accuracy: 1.0000 - val_loss: 2.5829e-08 - val_accuracy: 1.0000\n",
            "Epoch 138/200\n",
            "6/6 [==============================] - 2s 369ms/step - loss: 6.4068e-05 - accuracy: 1.0000 - val_loss: 4.7021e-08 - val_accuracy: 1.0000\n",
            "Epoch 139/200\n",
            "6/6 [==============================] - 2s 303ms/step - loss: 3.0487e-06 - accuracy: 1.0000 - val_loss: 8.1459e-08 - val_accuracy: 1.0000\n",
            "Epoch 140/200\n",
            "6/6 [==============================] - 2s 305ms/step - loss: 2.6247e-06 - accuracy: 1.0000 - val_loss: 1.0861e-07 - val_accuracy: 1.0000\n",
            "Epoch 141/200\n",
            "6/6 [==============================] - 2s 304ms/step - loss: 3.7281e-06 - accuracy: 1.0000 - val_loss: 1.2451e-07 - val_accuracy: 1.0000\n",
            "Epoch 142/200\n",
            "6/6 [==============================] - 2s 302ms/step - loss: 1.2664e-05 - accuracy: 1.0000 - val_loss: 1.3179e-07 - val_accuracy: 1.0000\n",
            "Epoch 143/200\n",
            "6/6 [==============================] - 2s 302ms/step - loss: 6.8194e-06 - accuracy: 1.0000 - val_loss: 1.3378e-07 - val_accuracy: 1.0000\n",
            "Epoch 144/200\n",
            "6/6 [==============================] - 2s 304ms/step - loss: 2.2754e-05 - accuracy: 1.0000 - val_loss: 1.4570e-07 - val_accuracy: 1.0000\n",
            "Epoch 145/200\n",
            "6/6 [==============================] - 2s 305ms/step - loss: 4.0863e-06 - accuracy: 1.0000 - val_loss: 1.6623e-07 - val_accuracy: 1.0000\n",
            "Epoch 146/200\n",
            "6/6 [==============================] - 2s 307ms/step - loss: 1.2472e-06 - accuracy: 1.0000 - val_loss: 1.7749e-07 - val_accuracy: 1.0000\n",
            "Epoch 147/200\n",
            "6/6 [==============================] - 2s 304ms/step - loss: 2.4988e-06 - accuracy: 1.0000 - val_loss: 1.8014e-07 - val_accuracy: 1.0000\n",
            "Epoch 148/200\n",
            "6/6 [==============================] - 2s 312ms/step - loss: 4.8958e-06 - accuracy: 1.0000 - val_loss: 1.7086e-07 - val_accuracy: 1.0000\n",
            "Epoch 149/200\n",
            "6/6 [==============================] - 2s 305ms/step - loss: 5.4047e-05 - accuracy: 1.0000 - val_loss: 1.9139e-07 - val_accuracy: 1.0000\n",
            "Epoch 150/200\n",
            "6/6 [==============================] - 2s 303ms/step - loss: 2.0471e-06 - accuracy: 1.0000 - val_loss: 2.2583e-07 - val_accuracy: 1.0000\n",
            "Epoch 151/200\n",
            "6/6 [==============================] - 2s 307ms/step - loss: 1.3322e-05 - accuracy: 1.0000 - val_loss: 2.2252e-07 - val_accuracy: 1.0000\n",
            "Epoch 152/200\n",
            "6/6 [==============================] - 2s 308ms/step - loss: 7.5713e-07 - accuracy: 1.0000 - val_loss: 2.1656e-07 - val_accuracy: 1.0000\n",
            "Epoch 153/200\n",
            "6/6 [==============================] - 2s 304ms/step - loss: 1.6606e-05 - accuracy: 1.0000 - val_loss: 1.7616e-07 - val_accuracy: 1.0000\n",
            "Epoch 154/200\n",
            "6/6 [==============================] - 2s 301ms/step - loss: 6.6599e-06 - accuracy: 1.0000 - val_loss: 1.4967e-07 - val_accuracy: 1.0000\n",
            "Epoch 155/200\n",
            "6/6 [==============================] - 2s 304ms/step - loss: 1.3639e-05 - accuracy: 1.0000 - val_loss: 1.2318e-07 - val_accuracy: 1.0000\n",
            "Epoch 156/200\n",
            "6/6 [==============================] - 2s 304ms/step - loss: 1.6455e-06 - accuracy: 1.0000 - val_loss: 9.0069e-08 - val_accuracy: 1.0000\n",
            "Epoch 157/200\n",
            "6/6 [==============================] - 2s 303ms/step - loss: 4.9162e-06 - accuracy: 1.0000 - val_loss: 7.7486e-08 - val_accuracy: 1.0000\n",
            "Epoch 158/200\n",
            "6/6 [==============================] - 2s 307ms/step - loss: 3.5054e-06 - accuracy: 1.0000 - val_loss: 7.0201e-08 - val_accuracy: 1.0000\n",
            "Epoch 159/200\n",
            "6/6 [==============================] - 2s 303ms/step - loss: 1.9879e-05 - accuracy: 1.0000 - val_loss: 6.0929e-08 - val_accuracy: 1.0000\n",
            "Epoch 160/200\n",
            "6/6 [==============================] - 2s 303ms/step - loss: 4.3427e-07 - accuracy: 1.0000 - val_loss: 5.0333e-08 - val_accuracy: 1.0000\n",
            "Epoch 161/200\n",
            "6/6 [==============================] - 2s 300ms/step - loss: 4.6436e-06 - accuracy: 1.0000 - val_loss: 4.5697e-08 - val_accuracy: 1.0000\n",
            "Epoch 162/200\n",
            "6/6 [==============================] - 2s 301ms/step - loss: 5.8389e-07 - accuracy: 1.0000 - val_loss: 4.3048e-08 - val_accuracy: 1.0000\n",
            "Epoch 163/200\n",
            "6/6 [==============================] - 2s 303ms/step - loss: 7.0281e-06 - accuracy: 1.0000 - val_loss: 4.2385e-08 - val_accuracy: 1.0000\n",
            "Epoch 164/200\n",
            "6/6 [==============================] - 2s 306ms/step - loss: 3.2842e-06 - accuracy: 1.0000 - val_loss: 4.2385e-08 - val_accuracy: 1.0000\n",
            "Epoch 165/200\n",
            "6/6 [==============================] - 2s 302ms/step - loss: 2.1152e-06 - accuracy: 1.0000 - val_loss: 4.3048e-08 - val_accuracy: 1.0000\n",
            "Epoch 166/200\n",
            "6/6 [==============================] - 2s 304ms/step - loss: 3.8615e-06 - accuracy: 1.0000 - val_loss: 4.3048e-08 - val_accuracy: 1.0000\n",
            "Epoch 167/200\n",
            "6/6 [==============================] - 2s 304ms/step - loss: 2.8368e-06 - accuracy: 1.0000 - val_loss: 4.3710e-08 - val_accuracy: 1.0000\n",
            "Epoch 168/200\n",
            "6/6 [==============================] - 2s 305ms/step - loss: 1.9185e-06 - accuracy: 1.0000 - val_loss: 4.3710e-08 - val_accuracy: 1.0000\n",
            "Epoch 169/200\n",
            "6/6 [==============================] - 2s 303ms/step - loss: 2.3681e-06 - accuracy: 1.0000 - val_loss: 4.3710e-08 - val_accuracy: 1.0000\n",
            "Epoch 170/200\n",
            "6/6 [==============================] - 2s 307ms/step - loss: 3.2262e-06 - accuracy: 1.0000 - val_loss: 4.4372e-08 - val_accuracy: 1.0000\n",
            "Epoch 171/200\n",
            "6/6 [==============================] - 2s 302ms/step - loss: 8.9435e-07 - accuracy: 1.0000 - val_loss: 4.5034e-08 - val_accuracy: 1.0000\n",
            "Epoch 172/200\n",
            "6/6 [==============================] - 2s 304ms/step - loss: 1.7437e-06 - accuracy: 1.0000 - val_loss: 4.5034e-08 - val_accuracy: 1.0000\n",
            "Epoch 173/200\n",
            "6/6 [==============================] - 2s 301ms/step - loss: 2.0200e-06 - accuracy: 1.0000 - val_loss: 4.4372e-08 - val_accuracy: 1.0000\n",
            "Epoch 174/200\n",
            "6/6 [==============================] - 2s 301ms/step - loss: 2.6390e-06 - accuracy: 1.0000 - val_loss: 4.3710e-08 - val_accuracy: 1.0000\n",
            "Epoch 175/200\n",
            "6/6 [==============================] - 2s 302ms/step - loss: 8.6597e-07 - accuracy: 1.0000 - val_loss: 4.3048e-08 - val_accuracy: 1.0000\n",
            "Epoch 176/200\n",
            "6/6 [==============================] - 2s 310ms/step - loss: 1.3258e-06 - accuracy: 1.0000 - val_loss: 4.2385e-08 - val_accuracy: 1.0000\n",
            "Epoch 177/200\n",
            "6/6 [==============================] - 2s 306ms/step - loss: 1.5241e-06 - accuracy: 1.0000 - val_loss: 4.1723e-08 - val_accuracy: 1.0000\n",
            "Epoch 178/200\n",
            "6/6 [==============================] - 2s 303ms/step - loss: 1.0578e-06 - accuracy: 1.0000 - val_loss: 4.1723e-08 - val_accuracy: 1.0000\n",
            "Epoch 179/200\n",
            "6/6 [==============================] - 2s 301ms/step - loss: 4.3933e-06 - accuracy: 1.0000 - val_loss: 3.9074e-08 - val_accuracy: 1.0000\n",
            "Epoch 180/200\n",
            "6/6 [==============================] - 2s 304ms/step - loss: 4.3648e-06 - accuracy: 1.0000 - val_loss: 3.7750e-08 - val_accuracy: 1.0000\n",
            "Epoch 181/200\n",
            "6/6 [==============================] - 2s 307ms/step - loss: 1.5351e-05 - accuracy: 1.0000 - val_loss: 3.2451e-08 - val_accuracy: 1.0000\n",
            "Epoch 182/200\n",
            "6/6 [==============================] - 2s 306ms/step - loss: 5.2867e-07 - accuracy: 1.0000 - val_loss: 2.9802e-08 - val_accuracy: 1.0000\n",
            "Epoch 183/200\n",
            "6/6 [==============================] - 2s 303ms/step - loss: 6.7151e-07 - accuracy: 1.0000 - val_loss: 2.8478e-08 - val_accuracy: 1.0000\n",
            "Epoch 184/200\n",
            "6/6 [==============================] - 2s 303ms/step - loss: 1.3987e-06 - accuracy: 1.0000 - val_loss: 2.7153e-08 - val_accuracy: 1.0000\n",
            "Epoch 185/200\n",
            "6/6 [==============================] - 2s 307ms/step - loss: 2.6092e-06 - accuracy: 1.0000 - val_loss: 2.7153e-08 - val_accuracy: 1.0000\n",
            "Epoch 186/200\n",
            "6/6 [==============================] - 2s 302ms/step - loss: 2.4278e-06 - accuracy: 1.0000 - val_loss: 2.5829e-08 - val_accuracy: 1.0000\n",
            "Epoch 187/200\n",
            "6/6 [==============================] - 2s 302ms/step - loss: 3.2270e-07 - accuracy: 1.0000 - val_loss: 2.5166e-08 - val_accuracy: 1.0000\n",
            "Epoch 188/200\n",
            "6/6 [==============================] - 2s 309ms/step - loss: 3.5582e-06 - accuracy: 1.0000 - val_loss: 2.4504e-08 - val_accuracy: 1.0000\n",
            "Epoch 189/200\n",
            "6/6 [==============================] - 2s 306ms/step - loss: 2.0101e-07 - accuracy: 1.0000 - val_loss: 2.3842e-08 - val_accuracy: 1.0000\n",
            "Epoch 190/200\n",
            "6/6 [==============================] - 2s 304ms/step - loss: 5.1477e-05 - accuracy: 1.0000 - val_loss: 3.9074e-08 - val_accuracy: 1.0000\n",
            "Epoch 191/200\n",
            "6/6 [==============================] - 2s 304ms/step - loss: 2.6314e-06 - accuracy: 1.0000 - val_loss: 7.4837e-08 - val_accuracy: 1.0000\n",
            "Epoch 192/200\n",
            "6/6 [==============================] - 2s 302ms/step - loss: 9.3699e-07 - accuracy: 1.0000 - val_loss: 1.0596e-07 - val_accuracy: 1.0000\n",
            "Epoch 193/200\n",
            "6/6 [==============================] - 2s 302ms/step - loss: 3.2816e-06 - accuracy: 1.0000 - val_loss: 1.2517e-07 - val_accuracy: 1.0000\n",
            "Epoch 194/200\n",
            "6/6 [==============================] - 2s 309ms/step - loss: 3.8672e-07 - accuracy: 1.0000 - val_loss: 1.3709e-07 - val_accuracy: 1.0000\n",
            "Epoch 195/200\n",
            "6/6 [==============================] - 2s 302ms/step - loss: 2.3180e-06 - accuracy: 1.0000 - val_loss: 1.4173e-07 - val_accuracy: 1.0000\n",
            "Epoch 196/200\n",
            "6/6 [==============================] - 2s 305ms/step - loss: 1.4535e-06 - accuracy: 1.0000 - val_loss: 1.4173e-07 - val_accuracy: 1.0000\n",
            "Epoch 197/200\n",
            "6/6 [==============================] - 2s 306ms/step - loss: 1.0435e-06 - accuracy: 1.0000 - val_loss: 1.3974e-07 - val_accuracy: 1.0000\n",
            "Epoch 198/200\n",
            "6/6 [==============================] - 2s 307ms/step - loss: 3.8886e-06 - accuracy: 1.0000 - val_loss: 1.3643e-07 - val_accuracy: 1.0000\n",
            "Epoch 199/200\n",
            "6/6 [==============================] - 2s 300ms/step - loss: 5.1339e-07 - accuracy: 1.0000 - val_loss: 1.3113e-07 - val_accuracy: 1.0000\n",
            "Epoch 200/200\n",
            "6/6 [==============================] - 2s 306ms/step - loss: 2.6150e-06 - accuracy: 1.0000 - val_loss: 1.2517e-07 - val_accuracy: 1.0000\n"
          ]
        },
        {
          "output_type": "execute_result",
          "data": {
            "text/plain": [
              "<keras.callbacks.History at 0x7f94f29b07d0>"
            ]
          },
          "metadata": {},
          "execution_count": 65
        }
      ]
    },
    {
      "cell_type": "markdown",
      "source": [
        "Evaluating our Video Classification Model"
      ],
      "metadata": {
        "id": "rMmzPMlb0gXi"
      }
    },
    {
      "cell_type": "code",
      "source": [
        "base_model = VGG16(weights='imagenet', include_top=False)"
      ],
      "metadata": {
        "id": "AQw0enoqAPx6"
      },
      "execution_count": null,
      "outputs": []
    },
    {
      "cell_type": "markdown",
      "source": [
        "his is the pre-trained model and we will fine-tune it"
      ],
      "metadata": {
        "id": "JWtsKTzx0kxs"
      }
    },
    {
      "cell_type": "code",
      "source": [
        "#defining the model architecture\n",
        "model = Sequential()\n",
        "model.add(Dense(1024, activation='relu', input_shape=(25088,)))\n",
        "model.add(Dropout(0.5))\n",
        "model.add(Dense(512, activation='relu'))\n",
        "model.add(Dropout(0.5))\n",
        "model.add(Dense(256, activation='relu'))\n",
        "model.add(Dropout(0.5))\n",
        "model.add(Dense(256, activation='relu'))\n",
        "model.add(Dropout(0.5))\n",
        "model.add(Dense(2, activation='softmax'))"
      ],
      "metadata": {
        "id": "IlxO_4f3AQug"
      },
      "execution_count": null,
      "outputs": []
    },
    {
      "cell_type": "code",
      "source": [
        "# compiling the model\n",
        "model.compile(loss='categorical_crossentropy',optimizer='Adam',metrics=['accuracy'], run_eagerly=True)"
      ],
      "metadata": {
        "id": "5InUPwH7AVsS"
      },
      "execution_count": null,
      "outputs": []
    },
    {
      "cell_type": "markdown",
      "source": [
        "Creating the test data"
      ],
      "metadata": {
        "id": "ChCdJeJD0rmY"
      }
    },
    {
      "cell_type": "code",
      "source": [
        "# getting the test list\n",
        "f = open(\"/content/drive/MyDrive/project2/testlist.txt\", \"r\")\n",
        "temp = f.read()\n",
        "videos = temp.split('\\n')\n",
        "\n",
        "# creating the dataframe\n",
        "test = pd.DataFrame()\n",
        "test['video_name'] = videos\n",
        "test = test[:-1]\n",
        "test_videos = test['video_name']\n",
        "test.head()"
      ],
      "metadata": {
        "colab": {
          "base_uri": "https://localhost:8080/",
          "height": 206
        },
        "id": "PX_0hr3sAXzK",
        "outputId": "c33fcbfc-aaeb-41c2-ee65-c0bbc1080913"
      },
      "execution_count": null,
      "outputs": [
        {
          "output_type": "execute_result",
          "data": {
            "text/plain": [
              "                                        video_name\n",
              "0  BodyWeightSquats/v_BodyWeightSquats_g01_c01.avi\n",
              "1  BodyWeightSquats/v_BodyWeightSquats_g01_c02.avi\n",
              "2  BodyWeightSquats/v_BodyWeightSquats_g01_c03.avi\n",
              "3  BodyWeightSquats/v_BodyWeightSquats_g01_c04.avi\n",
              "4  BodyWeightSquats/v_BodyWeightSquats_g02_c01.avi"
            ],
            "text/html": [
              "\n",
              "  <div id=\"df-60063456-8994-46ae-89f1-c67588bdd6f2\">\n",
              "    <div class=\"colab-df-container\">\n",
              "      <div>\n",
              "<style scoped>\n",
              "    .dataframe tbody tr th:only-of-type {\n",
              "        vertical-align: middle;\n",
              "    }\n",
              "\n",
              "    .dataframe tbody tr th {\n",
              "        vertical-align: top;\n",
              "    }\n",
              "\n",
              "    .dataframe thead th {\n",
              "        text-align: right;\n",
              "    }\n",
              "</style>\n",
              "<table border=\"1\" class=\"dataframe\">\n",
              "  <thead>\n",
              "    <tr style=\"text-align: right;\">\n",
              "      <th></th>\n",
              "      <th>video_name</th>\n",
              "    </tr>\n",
              "  </thead>\n",
              "  <tbody>\n",
              "    <tr>\n",
              "      <th>0</th>\n",
              "      <td>BodyWeightSquats/v_BodyWeightSquats_g01_c01.avi</td>\n",
              "    </tr>\n",
              "    <tr>\n",
              "      <th>1</th>\n",
              "      <td>BodyWeightSquats/v_BodyWeightSquats_g01_c02.avi</td>\n",
              "    </tr>\n",
              "    <tr>\n",
              "      <th>2</th>\n",
              "      <td>BodyWeightSquats/v_BodyWeightSquats_g01_c03.avi</td>\n",
              "    </tr>\n",
              "    <tr>\n",
              "      <th>3</th>\n",
              "      <td>BodyWeightSquats/v_BodyWeightSquats_g01_c04.avi</td>\n",
              "    </tr>\n",
              "    <tr>\n",
              "      <th>4</th>\n",
              "      <td>BodyWeightSquats/v_BodyWeightSquats_g02_c01.avi</td>\n",
              "    </tr>\n",
              "  </tbody>\n",
              "</table>\n",
              "</div>\n",
              "      <button class=\"colab-df-convert\" onclick=\"convertToInteractive('df-60063456-8994-46ae-89f1-c67588bdd6f2')\"\n",
              "              title=\"Convert this dataframe to an interactive table.\"\n",
              "              style=\"display:none;\">\n",
              "        \n",
              "  <svg xmlns=\"http://www.w3.org/2000/svg\" height=\"24px\"viewBox=\"0 0 24 24\"\n",
              "       width=\"24px\">\n",
              "    <path d=\"M0 0h24v24H0V0z\" fill=\"none\"/>\n",
              "    <path d=\"M18.56 5.44l.94 2.06.94-2.06 2.06-.94-2.06-.94-.94-2.06-.94 2.06-2.06.94zm-11 1L8.5 8.5l.94-2.06 2.06-.94-2.06-.94L8.5 2.5l-.94 2.06-2.06.94zm10 10l.94 2.06.94-2.06 2.06-.94-2.06-.94-.94-2.06-.94 2.06-2.06.94z\"/><path d=\"M17.41 7.96l-1.37-1.37c-.4-.4-.92-.59-1.43-.59-.52 0-1.04.2-1.43.59L10.3 9.45l-7.72 7.72c-.78.78-.78 2.05 0 2.83L4 21.41c.39.39.9.59 1.41.59.51 0 1.02-.2 1.41-.59l7.78-7.78 2.81-2.81c.8-.78.8-2.07 0-2.86zM5.41 20L4 18.59l7.72-7.72 1.47 1.35L5.41 20z\"/>\n",
              "  </svg>\n",
              "      </button>\n",
              "      \n",
              "  <style>\n",
              "    .colab-df-container {\n",
              "      display:flex;\n",
              "      flex-wrap:wrap;\n",
              "      gap: 12px;\n",
              "    }\n",
              "\n",
              "    .colab-df-convert {\n",
              "      background-color: #E8F0FE;\n",
              "      border: none;\n",
              "      border-radius: 50%;\n",
              "      cursor: pointer;\n",
              "      display: none;\n",
              "      fill: #1967D2;\n",
              "      height: 32px;\n",
              "      padding: 0 0 0 0;\n",
              "      width: 32px;\n",
              "    }\n",
              "\n",
              "    .colab-df-convert:hover {\n",
              "      background-color: #E2EBFA;\n",
              "      box-shadow: 0px 1px 2px rgba(60, 64, 67, 0.3), 0px 1px 3px 1px rgba(60, 64, 67, 0.15);\n",
              "      fill: #174EA6;\n",
              "    }\n",
              "\n",
              "    [theme=dark] .colab-df-convert {\n",
              "      background-color: #3B4455;\n",
              "      fill: #D2E3FC;\n",
              "    }\n",
              "\n",
              "    [theme=dark] .colab-df-convert:hover {\n",
              "      background-color: #434B5C;\n",
              "      box-shadow: 0px 1px 3px 1px rgba(0, 0, 0, 0.15);\n",
              "      filter: drop-shadow(0px 1px 2px rgba(0, 0, 0, 0.3));\n",
              "      fill: #FFFFFF;\n",
              "    }\n",
              "  </style>\n",
              "\n",
              "      <script>\n",
              "        const buttonEl =\n",
              "          document.querySelector('#df-60063456-8994-46ae-89f1-c67588bdd6f2 button.colab-df-convert');\n",
              "        buttonEl.style.display =\n",
              "          google.colab.kernel.accessAllowed ? 'block' : 'none';\n",
              "\n",
              "        async function convertToInteractive(key) {\n",
              "          const element = document.querySelector('#df-60063456-8994-46ae-89f1-c67588bdd6f2');\n",
              "          const dataTable =\n",
              "            await google.colab.kernel.invokeFunction('convertToInteractive',\n",
              "                                                     [key], {});\n",
              "          if (!dataTable) return;\n",
              "\n",
              "          const docLinkHtml = 'Like what you see? Visit the ' +\n",
              "            '<a target=\"_blank\" href=https://colab.research.google.com/notebooks/data_table.ipynb>data table notebook</a>'\n",
              "            + ' to learn more about interactive tables.';\n",
              "          element.innerHTML = '';\n",
              "          dataTable['output_type'] = 'display_data';\n",
              "          await google.colab.output.renderOutput(dataTable, element);\n",
              "          const docLink = document.createElement('div');\n",
              "          docLink.innerHTML = docLinkHtml;\n",
              "          element.appendChild(docLink);\n",
              "        }\n",
              "      </script>\n",
              "    </div>\n",
              "  </div>\n",
              "  "
            ]
          },
          "metadata": {},
          "execution_count": 79
        }
      ]
    },
    {
      "cell_type": "code",
      "source": [
        "# creating the tags\n",
        "train = pd.read_csv('/content/drive/MyDrive/Project/train_new.csv')\n",
        "y = train['class']\n",
        "y = pd.get_dummies(y)"
      ],
      "metadata": {
        "id": "59iRrK-nAbVV"
      },
      "execution_count": null,
      "outputs": []
    },
    {
      "cell_type": "markdown",
      "source": [
        "Generating predictions for test videos"
      ],
      "metadata": {
        "id": "_w3ZbfGR2dql"
      }
    },
    {
      "cell_type": "code",
      "source": [
        "# creating two lists to store predicted and actual tags\n",
        "predict = []\n",
        "actual = []\n",
        "\n",
        "# for loop to extract frames from each test video\n",
        "for i in tqdm(range(test_videos.shape[0])):\n",
        "    count = 0\n",
        "    videoFile = test_videos[i]\n",
        "    cap = cv2.VideoCapture('/content/drive/MyDrive/project2/Test/'+videoFile.split(' ')[0].split('/')[1])   # capturing the video from the given path\n",
        "    frameRate = cap.get(5) #frame rate\n",
        "    x=1\n",
        "    # removing all other files from the temp folder\n",
        "    files = glob('/content/drive/MyDrive/Project/temp/*')\n",
        "    for f in files:\n",
        "        os.remove(f)\n",
        "    while(cap.isOpened()):\n",
        "        frameId = cap.get(1) #current frame number\n",
        "        ret, frame = cap.read()\n",
        "        if (ret != True):\n",
        "            break\n",
        "        if (frameId % math.floor(frameRate) == 0):\n",
        "            # storing the frames of this particular video in temp folder\n",
        "            filename ='/content/drive/MyDrive/Project/temp/' + \"_frame%d.jpg\" % count;count+=1\n",
        "            cv2.imwrite(filename, frame)\n",
        "    cap.release()\n",
        "    \n",
        "    # reading all the frames from temp folder\n",
        "    images = glob(\"/content/drive/MyDrive/Project/temp/*.jpg\")\n",
        "    \n",
        "    prediction_images = []\n",
        "    for i in range(len(images)):\n",
        "        img = image.load_img(images[i], target_size=(224,224,3))\n",
        "        img = image.img_to_array(img)\n",
        "        img = img/255\n",
        "        prediction_images.append(img)\n",
        "        \n",
        "    # converting all the frames for a test video into numpy array\n",
        "    prediction_images = np.array(prediction_images)\n",
        "    # extracting features using pre-trained model\n",
        "    prediction_images = base_model.predict(prediction_images)\n",
        "    # converting features in one dimensional array\n",
        "    prediction_images = prediction_images.reshape(prediction_images.shape[0], 7*7*512)\n",
        "    # predicting tags for each array\n",
        "    #prediction = model.predict_classes(prediction_images) \n",
        "    prediction = (model.predict(prediction_images) > 0.5).astype(\"int32\")\n",
        "    # appending the mode of predictions in predict list to assign the tag to the video\n",
        "    predict.append(y.columns.values[s.mode(prediction)[0][0]])\n",
        "    # appending the actual tag of the video\n",
        "    actual.append(videoFile.split('/')[1].split('_')[1])\n"
      ],
      "metadata": {
        "colab": {
          "base_uri": "https://localhost:8080/"
        },
        "id": "Rg4jdUPHAe0n",
        "outputId": "f35d1b1e-fcf8-4694-ee20-5ca797837b62"
      },
      "execution_count": null,
      "outputs": [
        {
          "output_type": "stream",
          "name": "stderr",
          "text": [
            "100%|██████████| 66/66 [03:28<00:00,  3.16s/it]\n"
          ]
        }
      ]
    },
    {
      "cell_type": "markdown",
      "source": [
        "Evaluating the model"
      ],
      "metadata": {
        "id": "hobVmsJe2H1g"
      }
    },
    {
      "cell_type": "code",
      "source": [
        "# checking the accuracy of the predicted tags\n",
        "from sklearn.metrics import accuracy_score\n",
        "accuracy_score(predict, actual)*100\n"
      ],
      "metadata": {
        "id": "9tebm1JeAiEu"
      },
      "execution_count": null,
      "outputs": []
    }
  ]
}